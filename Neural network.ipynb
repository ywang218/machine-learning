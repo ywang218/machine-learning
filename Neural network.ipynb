{
 "cells": [
  {
   "cell_type": "code",
   "execution_count": 7,
   "metadata": {
    "collapsed": true
   },
   "outputs": [],
   "source": [
    "import pandas as pd\n",
    "from sklearn.model_selection import train_test_split\n",
    "from sklearn import metrics\n",
    "from sklearn.neural_network import MLPClassifier\n",
    "from prettytable import PrettyTable"
   ]
  },
  {
   "cell_type": "code",
   "execution_count": 8,
   "metadata": {
    "collapsed": true
   },
   "outputs": [],
   "source": [
    "data = pd.read_csv(\"C:/Users/User/Desktop/695/HW/Titanic.csv\")\n",
    "tmp = data[['pclass','sex','age','sibsp','survived']].dropna()\n",
    "tmp = tmp.replace('male',1)\n",
    "tmp = tmp.replace('female',0)\n",
    "tmp = tmp.replace('1st',1)\n",
    "tmp = tmp.replace('2nd',2)\n",
    "tmp = tmp.replace('3rd',3)\n",
    "x = tmp[['pclass','sex','age','sibsp']]\n",
    "y = tmp['survived']\n",
    "xTrain,XTest,yTrain, YTest = train_test_split(x,y,test_size = 0.3,random_state = 0)\n"
   ]
  },
  {
   "cell_type": "code",
   "execution_count": 9,
   "metadata": {
    "collapsed": true
   },
   "outputs": [],
   "source": [
    "def get_Acc(matrix):\n",
    "    sp_acc = float(matrix[1][1])/float(matrix[1][1] + matrix[0][1])\n",
    "    fl_acc = float(matrix[0][0])/float(matrix[0][0] + matrix[1][0])\n",
    "    return sp_acc,fl_acc"
   ]
  },
  {
   "cell_type": "code",
   "execution_count": 10,
   "metadata": {},
   "outputs": [
    {
     "name": "stdout",
     "output_type": "stream",
     "text": [
      "in‐sample percent survivors correctly predicted is 0.77\n",
      "in-sample percent fatalities correctly predicted is 0.81\n",
      "out-of‐sample percent survivors correctly predicted is 0.75\n",
      "out-of-sample percent fatalities correctly predicted is 0.82\n"
     ]
    }
   ],
   "source": [
    "clf = MLPClassifier(solver='adam',alpha=0.001,hidden_layer_sizes=2,activation='logistic',random_state=17,max_iter=2000)\n",
    "clf.fit(xTrain,yTrain)\n",
    "yT_res = clf.predict(xTrain)\n",
    "cmT = metrics.confusion_matrix(yTrain,yT_res)\n",
    "print \"in‐sample percent survivors correctly predicted is %0.2f\" %(get_Acc(cmT)[0])\n",
    "print \"in-sample percent fatalities correctly predicted is %0.2f\" %(get_Acc(cmT)[1])\n",
    "yT_res=clf.predict(XTest)\n",
    "cmTest = metrics.confusion_matrix(YTest,yT_res)\n",
    "print \"out-of‐sample percent survivors correctly predicted is %0.2f\"  %(get_Acc(cmTest)[0])\n",
    "print \"out-of-sample percent fatalities correctly predicted is %0.2f\" %(get_Acc(cmTest)[1])"
   ]
  },
  {
   "cell_type": "code",
   "execution_count": 11,
   "metadata": {},
   "outputs": [
    {
     "name": "stdout",
     "output_type": "stream",
     "text": [
      "+---------------+--------------------------+---------------------------+-----------------------------+------------------------------+\n",
      "|    Strategy   | insamplepercentsurvivors | insamplepercentfatalities | outofsamplepercentsurvivors | outofsamplepercentfatalities |\n",
      "+---------------+--------------------------+---------------------------+-----------------------------+------------------------------+\n",
      "| MLPclassifier |      0.772058823529      |       0.808695652174      |        0.748031496063       |        0.818181818182        |\n",
      "|  Pruned Tree  |           0.82           |            0.82           |             0.78            |             0.79             |\n",
      "+---------------+--------------------------+---------------------------+-----------------------------+------------------------------+\n"
     ]
    }
   ],
   "source": [
    "table = PrettyTable([\"Strategy\",\"insamplepercentsurvivors\",\"insamplepercentfatalities\",\"outofsamplepercentsurvivors\",\"outofsamplepercentfatalities\"])\n",
    "table.align[\"Strategy\"] = \"1\"\n",
    "table.padding_width = 1\n",
    "table.add_row([\"MLPclassifier\",get_Acc(cmT)[0],get_Acc(cmT)[1],get_Acc(cmTest)[0],get_Acc(cmTest)[1]])\n",
    "table.add_row([\"Pruned Tree\",0.82,0.82,0.78,0.79])\n",
    "print(table)"
   ]
  }
 ],
 "metadata": {
  "kernelspec": {
   "display_name": "Python 2",
   "language": "python",
   "name": "python2"
  },
  "language_info": {
   "codemirror_mode": {
    "name": "ipython",
    "version": 2
   },
   "file_extension": ".py",
   "mimetype": "text/x-python",
   "name": "python",
   "nbconvert_exporter": "python",
   "pygments_lexer": "ipython2",
   "version": "2.7.14"
  }
 },
 "nbformat": 4,
 "nbformat_minor": 2
}
