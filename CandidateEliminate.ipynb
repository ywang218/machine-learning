{
 "cells": [
  {
   "cell_type": "code",
   "execution_count": 33,
   "metadata": {
    "collapsed": true
   },
   "outputs": [],
   "source": [
    "import random"
   ]
  },
  {
   "cell_type": "code",
   "execution_count": 34,
   "metadata": {
    "collapsed": true
   },
   "outputs": [],
   "source": [
    "sample = [['Sunny', 'Rainy'],\n",
    "          ['Warm','Cold'],\n",
    "          ['Normal','High'],\n",
    "          ['Strong','Weak'],\n",
    "          ['Warm','Cool'],\n",
    "          ['Same','Change']]\n",
    "\n",
    "num = len(sample)"
   ]
  },
  {
   "cell_type": "code",
   "execution_count": 35,
   "metadata": {
    "collapsed": true
   },
   "outputs": [],
   "source": [
    "def generate(tup =['?'] * num):\n",
    "      training = []\n",
    "      res = True\n",
    "      for i in range(num):\n",
    "        training.append(sample[i][random.randint(0, 1)])\n",
    "        if tup[i] != '?' and tup[i] != training[i]:\n",
    "            res = False\n",
    "      return training, res"
   ]
  },
  {
   "cell_type": "code",
   "execution_count": 36,
   "metadata": {
    "collapsed": true
   },
   "outputs": [],
   "source": [
    "def finds(samp = []):\n",
    "    hypo = ['0'] * num\n",
    "    for ex in samp:\n",
    "        if ex[1]:\n",
    "            for i in range(num):\n",
    "                attri = ex[0][i]\n",
    "                hy_atr = hypo[i]\n",
    "                if attri == sample[i][0]:\n",
    "                    if hy_atr == '0':\n",
    "                        hy_atr = sample[i][0]\n",
    "                    elif hy_atr == sample[i][1]:\n",
    "                        hy_atr = '?'\n",
    "                elif attri == sample[i][1]:\n",
    "                    if hy_atr == '0':\n",
    "                        hy_atr = sample[i][1]\n",
    "                    elif hy_atr == sample[i][0]:\n",
    "                        hy_atr = '?'\n",
    "                hypo[i] = hy_atr\n",
    "    return hypo"
   ]
  },
  {
   "cell_type": "code",
   "execution_count": 37,
   "metadata": {
    "collapsed": true
   },
   "outputs": [],
   "source": [
    "def findWithoutRand(tup):               #for the first task, we do not need to get random data,so I write this method for convinent to achieve first task \n",
    "    for i in tup:\n",
    "        if i[6] == 1:\n",
    "            index = 0\n",
    "            for j in i[:-1]:\n",
    "                if(tup[0][index] == None):\n",
    "                    tup[0][index] = j\n",
    "                elif(tup[0][index]!=j):\n",
    "                    tup[0][index] = '?'\n",
    "                index+=1\n",
    "    \n",
    "    for i in range(len(tup[1])-1):\n",
    "        print tup[0][i],\n",
    "    \n",
    "    return tup[0]"
   ]
  },
  {
   "cell_type": "code",
   "execution_count": 38,
   "metadata": {},
   "outputs": [
    {
     "name": "stdout",
     "output_type": "stream",
     "text": [
      "Sunny Warm ? Strong ? ?\n"
     ]
    }
   ],
   "source": [
    "tup1 = ['Sunny','Warm','Normal','Strong','Warm','Same',1]\n",
    "tup2 = ['Sunny','Warm','High','Strong','Warm','Same',1]\n",
    "tup3 = ['Rainy','Cold','High','Strong','Warm','Change',0]\n",
    "tup4 = ['Sunny','Warm','High','Strong','Cool','Change',1]\n",
    "tup5 = [tup1,tup2,tup3,tup4]\n",
    "tup6 = findWithoutRand(tup5)                                               "
   ]
  },
  {
   "cell_type": "code",
   "execution_count": 39,
   "metadata": {
    "collapsed": true
   },
   "outputs": [],
   "source": [
    "def experiment(tmp =['?'] * num):\n",
    "    train = []\n",
    "    while finds(train) != tmp:\n",
    "        train.append(generate((tmp)))\n",
    "    return len(train)"
   ]
  },
  {
   "cell_type": "code",
   "execution_count": 40,
   "metadata": {},
   "outputs": [
    {
     "name": "stdout",
     "output_type": "stream",
     "text": [
      "1000\n",
      "18\n",
      "['Sunny', 'Warm', '?', '?', '?', '?']\n"
     ]
    }
   ],
   "source": [
    "def main():\n",
    "    targetVal = ['Sunny','Warm','?','?','?','?']\n",
    "    k = 1000\n",
    "    restup = []\n",
    "    for i in range(k):\n",
    "        restup.append(experiment(targetVal))\n",
    "    times = sum(restup) / k\n",
    "\n",
    "    print(str(len(restup)))\n",
    "    print(str(times))\n",
    "    print(str(targetVal))\n",
    "\n",
    "if __name__ == \"__main__\":\n",
    "    main()"
   ]
  }
 ],
 "metadata": {
  "kernelspec": {
   "display_name": "Python 2",
   "language": "python",
   "name": "python2"
  },
  "language_info": {
   "codemirror_mode": {
    "name": "ipython",
    "version": 2
   },
   "file_extension": ".py",
   "mimetype": "text/x-python",
   "name": "python",
   "nbconvert_exporter": "python",
   "pygments_lexer": "ipython2",
   "version": "2.7.14"
  }
 },
 "nbformat": 4,
 "nbformat_minor": 2
}
