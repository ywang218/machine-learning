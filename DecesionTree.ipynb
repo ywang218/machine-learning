{
 "cells": [
  {
   "cell_type": "code",
   "execution_count": 19,
   "metadata": {
    "collapsed": true
   },
   "outputs": [],
   "source": [
    "import pandas as pd\n",
    "from sklearn.model_selection import train_test_split\n",
    "from sklearn.feature_extraction import DictVectorizer\n",
    "from sklearn import tree\n",
    "from sklearn import metrics\n",
    "from sklearn.externals.six import StringIO\n",
    "import pydotplus\n",
    "import matplotlib.pyplot as plt\n",
    "from sklearn.model_selection import GridSearchCV"
   ]
  },
  {
   "cell_type": "code",
   "execution_count": 20,
   "metadata": {
    "collapsed": true
   },
   "outputs": [],
   "source": [
    "data = pd.read_csv(\"C:/Users/User/Desktop/695/HW/Titanic.csv\")"
   ]
  },
  {
   "cell_type": "code",
   "execution_count": 21,
   "metadata": {},
   "outputs": [],
   "source": [
    "X = data[['pclass','sex','age','sibsp']]\n",
    "Y = data['survived']\n",
    "X['age'].fillna(X['age'].mean(),inplace=True)"
   ]
  },
  {
   "cell_type": "code",
   "execution_count": 22,
   "metadata": {
    "collapsed": true
   },
   "outputs": [],
   "source": [
    "X_train,X_test,Y_train,Y_test = train_test_split(X,Y,test_size = 0.3,random_state = 0)\n",
    "vec = DictVectorizer(sparse = False)\n",
    "X_train = vec.fit_transform(X_train.to_dict(orient = 'record'))\n",
    "X_test = vec.transform(X_test.to_dict(orient = 'record'))"
   ]
  },
  {
   "cell_type": "code",
   "execution_count": 23,
   "metadata": {
    "collapsed": true
   },
   "outputs": [],
   "source": [
    "#I will store the structure of the tree in pdf \n",
    "def creat_pdf(dtc, filename):\n",
    "    dot_data = StringIO()\n",
    "    tree.export_graphviz(dtc, out_file=dot_data, feature_names = vec.get_feature_names(), class_names = ['died','survived'])\n",
    "    graph = pydotplus.graph_from_dot_data(dot_data.getvalue())\n",
    "    graph.write_pdf(\"%s.pdf\" %filename)"
   ]
  },
  {
   "cell_type": "code",
   "execution_count": 24,
   "metadata": {
    "collapsed": true
   },
   "outputs": [],
   "source": [
    "def get_accuracy(metrix):\n",
    "    survivors_predicted_accuracy = float(metrix[1][1])/float(metrix[1][1] + metrix[0][1])\n",
    "    fatalities_predicted_accuracy = float(metrix[0][0])/float(metrix[0][0] + metrix[1][0])\n",
    "    return survivors_predicted_accuracy, fatalities_predicted_accuracy"
   ]
  },
  {
   "cell_type": "code",
   "execution_count": 25,
   "metadata": {},
   "outputs": [
    {
     "name": "stdout",
     "output_type": "stream",
     "text": [
      "in‐sample percent survivors correctly predicted is 0.93\n",
      "in-sample percent fatalities correctly predicted is 0.87\n",
      "out-of‐sample percent survivors correctly predicted is 0.73\n",
      "out-of-sample percent fatalities correctly predicted is 0.77\n"
     ]
    }
   ],
   "source": [
    "dtc = tree.DecisionTreeClassifier(criterion = 'entropy')\n",
    "dtc.fit(X_train,Y_train)\n",
    "Y_train_predict = dtc.predict(X_train)\n",
    "cm_train = metrics.confusion_matrix(Y_train,Y_train_predict)\n",
    "#print \"Tree without Pruning:\"\n",
    "print \"in‐sample percent survivors correctly predicted is %0.2f\" %(get_accuracy(cm_train)[0])\n",
    "print \"in-sample percent fatalities correctly predicted is %0.2f\" %(get_accuracy(cm_train)[1])\n",
    "Y_test_predict = dtc.predict(X_test)\n",
    "cm_test = metrics.confusion_matrix(Y_test,Y_test_predict)\n",
    "print \"out-of‐sample percent survivors correctly predicted is %0.2f\"  %(get_accuracy(cm_test)[0])\n",
    "print \"out-of-sample percent fatalities correctly predicted is %0.2f\" %(get_accuracy(cm_test)[1])\n",
    "creat_pdf(dtc, \"tree without pruning\")"
   ]
  },
  {
   "cell_type": "code",
   "execution_count": 26,
   "metadata": {},
   "outputs": [
    {
     "name": "stderr",
     "output_type": "stream",
     "text": [
      "C:\\Anaconda\\lib\\site-packages\\sklearn\\model_selection\\_search.py:761: DeprecationWarning: The grid_scores_ attribute was deprecated in version 0.18 in favor of the more elaborate cv_results_ attribute. The grid_scores_ attribute will not be available from 0.20\n",
      "  DeprecationWarning)\n"
     ]
    },
    {
     "data": {
      "image/png": "[encoded data removed]",
      "text/plain": [
       "<matplotlib.figure.Figure at 0x100253c8>"
      ]
     },
     "metadata": {},
     "output_type": "display_data"
    }
   ],
   "source": [
    "max_leaf_nodes = [None] + range(2,10)\n",
    "misclassification = []\n",
    "parameters = {'max_leaf_nodes':max_leaf_nodes}\n",
    "dtc = tree.DecisionTreeClassifier(criterion='entropy')\n",
    "grid_search = GridSearchCV(dtc, parameters, cv = 10, scoring = 'accuracy', n_jobs=-1)\n",
    "grid_search.fit(X_train, Y_train)\n",
    "for score in grid_search.grid_scores_:\n",
    "     misclassification.append(1-score[1])\n",
    "max_leaf_nodes[0] = 1\n",
    "plt.plot(max_leaf_nodes, misclassification, 'b')\n",
    "plt.plot(max_leaf_nodes, misclassification, 'ro')\n",
    "plt.xlabel(\"Tree Size\")\n",
    "plt.ylabel(\"misclassification\")\n",
    "plt.show()"
   ]
  },
  {
   "cell_type": "code",
   "execution_count": 27,
   "metadata": {},
   "outputs": [
    {
     "name": "stdout",
     "output_type": "stream",
     "text": [
      "Tree with Pruning:\n",
      "Tree Info: criterion ='entropy', max_leaf_nodes = 7\n",
      "in‐sample percent survivors correctly predicted is 0.82\n",
      "in-sample percent fatalities correctly predicted is 0.82\n",
      "out-of-sample percent survivors correctly predicted is 0.78\n",
      "out-of-sample percent fatalities correctly predicted is 0.79\n"
     ]
    }
   ],
   "source": [
    "dtc = tree.DecisionTreeClassifier(criterion = 'entropy', max_leaf_nodes = grid_search.best_params_['max_leaf_nodes'])\n",
    "dtc.fit(X_train,Y_train)\n",
    "Y_train_predict = dtc.predict(X_train)\n",
    "cm_train = metrics.confusion_matrix(Y_train,Y_train_predict)\n",
    "print \"Tree with Pruning:\"\n",
    "print \"Tree Info: criterion ='entropy', max_leaf_nodes = %d\" %(grid_search.best_params_['max_leaf_nodes'])\n",
    "print \"in‐sample percent survivors correctly predicted is %0.2f\"  %(get_accuracy(cm_train)[0])\n",
    "print \"in-sample percent fatalities correctly predicted is %0.2f\" %(get_accuracy(cm_train)[1])\n",
    "Y_test_predict = dtc.predict(X_test)\n",
    "cm_test = metrics.confusion_matrix(Y_test,Y_test_predict)\n",
    "print \"out-of-sample percent survivors correctly predicted is %0.2f\" %(get_accuracy(cm_test)[0])\n",
    "print \"out-of-sample percent fatalities correctly predicted is %0.2f\" %(get_accuracy(cm_test)[1])\n",
    "creat_pdf(dtc, \"tree with pruning\")"
   ]
  }
 ],
 "metadata": {
  "kernelspec": {
   "display_name": "Python 2",
   "language": "python",
   "name": "python2"
  },
  "language_info": {
   "codemirror_mode": {
    "name": "ipython",
    "version": 2
   },
   "file_extension": ".py",
   "mimetype": "text/x-python",
   "name": "python",
   "nbconvert_exporter": "python",
   "pygments_lexer": "ipython2",
   "version": "2.7.14"
  }
 },
 "nbformat": 4,
 "nbformat_minor": 2
}
